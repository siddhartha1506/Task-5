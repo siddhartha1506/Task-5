{
  "nbformat": 4,
  "nbformat_minor": 0,
  "metadata": {
    "colab": {
      "provenance": [],
      "collapsed_sections": [],
      "authorship_tag": "ABX9TyNJWDaKfCU6AB69cHjO9t0W",
      "include_colab_link": true
    },
    "kernelspec": {
      "name": "python3",
      "display_name": "Python 3"
    },
    "language_info": {
      "name": "python"
    }
  },
  "cells": [
    {
      "cell_type": "markdown",
      "metadata": {
        "id": "view-in-github",
        "colab_type": "text"
      },
      "source": [
        "<a href=\"https://colab.research.google.com/github/siddhartha1506/Task-5/blob/main/Task_5.ipynb\" target=\"_parent\"><img src=\"https://colab.research.google.com/assets/colab-badge.svg\" alt=\"Open In Colab\"/></a>"
      ]
    },
    {
      "cell_type": "markdown",
      "source": [
        "The data is available as two attached CSV files:\n",
        "takehome_user_engagement. csv\n",
        "takehome_users . csv\n",
        "The data has the following two tables:\n",
        "1] A user table ( \"takehome_users\" ) with data on 12,000 users who signed up for the\n",
        "product in the last two years. This table includes:\n",
        "● name: the user's name\n",
        "● object_id: the user's id\n",
        "● email: email address\n",
        "● creation_source: how their account was created. This takes on one\n",
        "of 5 values:\n",
        "○ PERSONAL_PROJECTS: invited to join another user's\n",
        "personal workspace\n",
        "○ GUEST_INVITE: invited to an organization as a guest\n",
        "(limited permissions)\n",
        "○ ORG_INVITE: invited to an organization (as a full member)\n",
        "○ SIGNUP: signed up via the website\n",
        "○ SIGNUP_GOOGLE_AUTH: signed up using Google\n",
        "Authentication (using a Google email account for their login\n",
        "id)\n",
        "\n",
        "● creation_time: when they created their account\n",
        "● last_session_creation_time: unix timestamp of last login\n",
        "● opted_in_to_mailing_list: whether they have opted into receiving\n",
        "marketing emails\n",
        "● enabled_for_marketing_drip: whether they are on the regular\n",
        "marketing email drip\n",
        "● org_id: the organization (group of users) they belong to\n",
        "● invited_by_user_id: which user invited them to join (if applicable).\n",
        "2] A usage summary table ( \"takehome_user_engagement\" ) that has a row for each day\n",
        "that a user logged into the product.\n",
        "\n",
        "Defining an \"adopted user\" as a user who has logged into the product on three separate\n",
        "days in at least one seven­day period , identify which factors predict future user\n",
        "adoption .\n",
        "We suggest spending 1­2 hours on this, but you're welcome to spend more or less.\n",
        "Please send us a brief writeup of your findings (the more concise, the better ­­ no more\n",
        "than one page), along with any summary tables, graphs, code, or queries that can help\n",
        "us understand your approach. Please note any factors you considered or investigation\n",
        "you did, even if they did not pan out. Feel free to identify any further research or data\n",
        "you think would be valuable."
      ],
      "metadata": {
        "id": "-BMAWl2C-05P"
      }
    },
    {
      "cell_type": "markdown",
      "source": [
        "**1] A user table ( \"takehome_users\" )**"
      ],
      "metadata": {
        "id": "o6TcZj-C_kNO"
      }
    },
    {
      "cell_type": "code",
      "source": [
        "\n",
        "import pandas as pd\n",
        "df1=pd.read_csv('takehome_user_engagement.csv')"
      ],
      "metadata": {
        "id": "C7HNWGZx_WTp"
      },
      "execution_count": null,
      "outputs": []
    },
    {
      "cell_type": "markdown",
      "source": [
        "The date/time/visited variables are important in this csv file. These variables are useful to determine the user traffic in the website.There is no other user information or subject useful for data analysis. "
      ],
      "metadata": {
        "id": "0aqPe8om_mkj"
      }
    },
    {
      "cell_type": "markdown",
      "source": [
        "**2]A user table(\"takehome_user_engagement\")**"
      ],
      "metadata": {
        "id": "NsmfRJYMAcVl"
      }
    },
    {
      "cell_type": "code",
      "source": [
        "takehome_users = pd.read_csv('takehome_users.csv',encoding='ISO-8859-1')"
      ],
      "metadata": {
        "id": "5STtF59L_yRa"
      },
      "execution_count": null,
      "outputs": []
    },
    {
      "cell_type": "code",
      "source": [
        "Considering the 'adopted users' for 7 days period,it is suitable to seperate the data based on 7-day-period.\n",
        "This could be easy to seperate the data for further analysis."
      ],
      "metadata": {
        "id": "EJuH3bfNBfee"
      },
      "execution_count": null,
      "outputs": []
    }
  ]
}